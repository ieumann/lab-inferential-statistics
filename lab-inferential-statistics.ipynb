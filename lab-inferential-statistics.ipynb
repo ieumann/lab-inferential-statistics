{
 "cells": [
  {
   "cell_type": "markdown",
   "id": "5a14b26a",
   "metadata": {},
   "source": [
    "#### Instructions\n",
    "\n",
    "1. It is assumed that the mean systolic blood pressure is `μ = 120 mm Hg`. In the Honolulu Heart Study, a sample of `n = 100` people had an average systolic blood pressure of `μ0 = 130.1 mm Hg` with a standard deviation of 21.21 mm Hg. Is the group significantly different (with respect to systolic blood pressure!) from the regular population?\n",
    "\n",
    "   - Set up the hypothesis test.\n",
    "   - Write down all the steps followed for setting up the test.\n",
    "   - Calculate the test statistic by hand and also code it in Python. It should be 4.76190. We will take a look at how to make decisions based on this calculated value."
   ]
  },
  {
   "cell_type": "markdown",
   "id": "ffc6f15b",
   "metadata": {},
   "source": [
    "### Hypothesis Test"
   ]
  },
  {
   "cell_type": "markdown",
   "id": "84ff87bd",
   "metadata": {},
   "source": [
    "**The hypothesis is that the average blood pressure of the study group is the same as the average of the general population.**\n",
    "- H0: sample_mean = pop_mean (μ = μ0)  \n",
    "- H1: sample_mean /= pop_mean "
   ]
  },
  {
   "cell_type": "markdown",
   "id": "1977b8e7",
   "metadata": {},
   "source": [
    "Further definitions:\n",
    "- Two-tailed test.\n",
    "- We can use t-test or z-test.\n",
    "- Level of significance alpha = 0.01 because it is data from the medical field. *The lower the α, the lower the power; the higher the α, the higher the power. The lower the α, the less likely it is that we will make an error (i.e. reject the null when it's true). The lower the α , the more “rigorous” the test.*\n",
    "- Calculating the test statistic."
   ]
  },
  {
   "cell_type": "code",
   "execution_count": 3,
   "id": "50a9aa55",
   "metadata": {},
   "outputs": [
    {
     "data": {
      "text/plain": [
       "4.761904761904759"
      ]
     },
     "execution_count": 3,
     "metadata": {},
     "output_type": "execute_result"
    }
   ],
   "source": [
    "import math\n",
    "\n",
    "sample_mean = 130.1 \n",
    "pop_mean = 120\n",
    "pop_std = 21.21\n",
    "n = 100\n",
    "\n",
    "statistic = (sample_mean - pop_mean)/(pop_std/math.sqrt(n))\n",
    "statistic "
   ]
  },
  {
   "cell_type": "markdown",
   "id": "78deb389",
   "metadata": {},
   "source": [
    "- Checking the critical value. <br>\n",
    "dof = 99 <br>\n",
    "alpha = 0.01 <br>\n",
    "t = 2.626 <br>"
   ]
  },
  {
   "cell_type": "code",
   "execution_count": 4,
   "id": "af26a693",
   "metadata": {},
   "outputs": [
    {
     "data": {
      "text/plain": [
       "6.562701817208617e-06"
      ]
     },
     "execution_count": 4,
     "metadata": {},
     "output_type": "execute_result"
    }
   ],
   "source": [
    "from scipy.stats import t\n",
    "p_value = t.sf(abs(statistic), n-1) * 2 # two-tailed\n",
    "p_value"
   ]
  },
  {
   "cell_type": "markdown",
   "id": "0d352e75",
   "metadata": {},
   "source": [
    "**Conclusions**\n",
    "\n",
    "The critical value from the t-test is approx. (-)2.626. <br>\n",
    "Since the p-value (6.562701817208617e-06) is smaller than the significance level (0.01), we can conclude that there is sufficient evidence to reject the null hypothesis. The observed test statistic is statistically significant. <br>\n",
    "In this case, the test statistic (4.761904761904759) is greater than the critical value (2.626), which also supports the rejection of the null hypothesis.\n",
    "In relation to their average systolic blood pressure the group is different to the general population."
   ]
  }
 ],
 "metadata": {
  "kernelspec": {
   "display_name": "Python 3 (ipykernel)",
   "language": "python",
   "name": "python3"
  },
  "language_info": {
   "codemirror_mode": {
    "name": "ipython",
    "version": 3
   },
   "file_extension": ".py",
   "mimetype": "text/x-python",
   "name": "python",
   "nbconvert_exporter": "python",
   "pygments_lexer": "ipython3",
   "version": "3.9.13"
  }
 },
 "nbformat": 4,
 "nbformat_minor": 5
}
