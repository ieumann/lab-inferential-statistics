{
 "cells": [
  {
   "cell_type": "markdown",
   "id": "5f2b6853",
   "metadata": {},
   "source": [
    "#### Instructions\n",
    "\n",
    "1. It is assumed that the mean systolic blood pressure is `μ = 120 mm Hg`. In the Honolulu Heart Study, a sample of `n = 100` people had an average systolic blood pressure of `μ0 = 130.1 mm Hg` with a standard deviation of 21.21 mm Hg. Is the group significantly different (with respect to systolic blood pressure!) from the regular population?\n",
    "\n",
    "   - Set up the hypothesis test.\n",
    "   - Write down all the steps followed for setting up the test.\n",
    "   - Calculate the test statistic by hand and also code it in Python. It should be 4.76190. We will take a look at how to make decisions based on this calculated value."
   ]
  },
  {
   "cell_type": "markdown",
   "id": "e6d63e01",
   "metadata": {},
   "source": [
    "### Hypothesis Test"
   ]
  },
  {
   "cell_type": "markdown",
   "id": "acb8141d",
   "metadata": {},
   "source": [
    "**The hypothesis is that the average blood pressure of the study group is the same as the average of the general population.**\n",
    "- H0: The group is not significantly different from the regular population. sample_mean = pop_mean (μ = μ0)\n",
    "- H1: The group is significantly different from the regular population. sample_mean /= pop_mean (μ ≠ μ0)"
   ]
  },
  {
   "cell_type": "markdown",
   "id": "3d2fc483",
   "metadata": {},
   "source": [
    "Further definitions:\n",
    "- Since we are comparing the mean of one sample to a known population mean, we can use a one-sample t-test (two-tailed).\n",
    "- We can use t-test or z-test.\n",
    "- Level of significance alpha = 0.01 because it is data from the medical field. *The lower the α, the lower the power; the higher the α, the higher the power. The lower the α, the less likely it is that we will make an error (i.e. reject the null when it's true). The lower the α , the more “rigorous” the test.*\n",
    "- Calculating the test statistic."
   ]
  },
  {
   "cell_type": "code",
   "execution_count": 18,
   "id": "f58bf0e2",
   "metadata": {},
   "outputs": [
    {
     "data": {
      "text/plain": [
       "4.761904761904759"
      ]
     },
     "execution_count": 18,
     "metadata": {},
     "output_type": "execute_result"
    }
   ],
   "source": [
    "import math\n",
    "\n",
    "sample_mean = 130.1 \n",
    "pop_mean = 120\n",
    "pop_std = 21.21\n",
    "n = 100\n",
    "\n",
    "t_statistic = (sample_mean - pop_mean)/(pop_std/math.sqrt(n))\n",
    "t_statistic "
   ]
  },
  {
   "cell_type": "markdown",
   "id": "8bcd81d8",
   "metadata": {},
   "source": [
    "We compare the test statistic with the critical value or p-value to make a decision. Checking the critical value. <br>\n",
    "dof = 99 <br>\n",
    "alpha = 0.01 <br>\n",
    "critical value = 2.626 <br>"
   ]
  },
  {
   "cell_type": "code",
   "execution_count": 4,
   "id": "bc3c65ce",
   "metadata": {},
   "outputs": [
    {
     "data": {
      "text/plain": [
       "6.562701817208617e-06"
      ]
     },
     "execution_count": 4,
     "metadata": {},
     "output_type": "execute_result"
    }
   ],
   "source": [
    "from scipy.stats import t\n",
    "\n",
    "p_value = t.sf(abs(statistic), n-1) * 2 # two-tailed\n",
    "p_value"
   ]
  },
  {
   "cell_type": "code",
   "execution_count": 21,
   "id": "612a5f18",
   "metadata": {},
   "outputs": [
    {
     "name": "stdout",
     "output_type": "stream",
     "text": [
      "test statistic: 4.761904761904759\n",
      "p-value: 0.0\n"
     ]
    },
    {
     "name": "stderr",
     "output_type": "stream",
     "text": [
      "/var/folders/h0/s4l71pbx5dn720gdg7qdj1h80000gn/T/ipykernel_44638/3798352304.py:7: RuntimeWarning: Precision loss occurred in moment calculation due to catastrophic cancellation. This occurs when the data are nearly identical. Results may be unreliable.\n",
      "  t_result = ttest_1samp([sample_mean] * n, pop_mean)\n"
     ]
    }
   ],
   "source": [
    "# We calculate the statistics and the p_value with Python.\n",
    "import numpy as np\n",
    "from scipy.stats import ttest_1samp\n",
    "\n",
    "sample_data = np.random.normal(loc=sample_mean, scale=0.1, size=sample_size)\n",
    "\n",
    "t_result = ttest_1samp([sample_mean] * n, pop_mean)\n",
    "\n",
    "print('test statistic:', t_statistic)\n",
    "print('p-value:', p_value)"
   ]
  },
  {
   "cell_type": "markdown",
   "id": "594f000f",
   "metadata": {},
   "source": [
    "*The p-value is a measure of the strength of evidence against the null hypothesis, while the critical value is a threshold used to make a decision about rejecting or failing to reject the null hypothesis based on the test statistic.*"
   ]
  },
  {
   "cell_type": "markdown",
   "id": "171b3b29",
   "metadata": {},
   "source": [
    "**Conclusions**\n",
    "\n",
    "The critical value is approx. (-)2.626. <br>\n",
    "Since the p-value (6.562701817208617e-06) is smaller than the significance level (0.01), we can conclude that there is sufficient evidence to reject the null hypothesis. The observed test statistic is statistically significant. <br>\n",
    "In this case, the test statistic (4.761904761904759) is greater than the critical value (2.626). When the test statistic falls in the rejection region beyond the critical value, it suggests that the observed data is unlikely to occur if the null hypothesis is true. We reject it.\n",
    "In relation to their average systolic blood pressure the group is different to the general population."
   ]
  }
 ],
 "metadata": {
  "kernelspec": {
   "display_name": "Python 3 (ipykernel)",
   "language": "python",
   "name": "python3"
  },
  "language_info": {
   "codemirror_mode": {
    "name": "ipython",
    "version": 3
   },
   "file_extension": ".py",
   "mimetype": "text/x-python",
   "name": "python",
   "nbconvert_exporter": "python",
   "pygments_lexer": "ipython3",
   "version": "3.9.13"
  }
 },
 "nbformat": 4,
 "nbformat_minor": 5
}
